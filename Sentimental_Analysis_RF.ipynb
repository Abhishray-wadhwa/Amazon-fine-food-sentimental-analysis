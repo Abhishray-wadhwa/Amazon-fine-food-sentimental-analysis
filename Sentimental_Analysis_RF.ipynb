{
  "cells": [
    {
      "cell_type": "code",
      "execution_count": null,
      "metadata": {
        "id": "9b-sph0hkA1W"
      },
      "outputs": [],
      "source": [
        "%matplotlib inline\n",
        "import warnings\n",
        "warnings.filterwarnings(\"ignore\")\n",
        "\n",
        "\n",
        "import sqlite3\n",
        "import pandas as pd\n",
        "import numpy as np\n",
        "import nltk\n",
        "import string\n",
        "import matplotlib.pyplot as plt\n",
        "import seaborn as sns\n",
        "from sklearn.feature_extraction.text import TfidfTransformer\n",
        "from sklearn.feature_extraction.text import TfidfVectorizer\n",
        "\n",
        "from sklearn.feature_extraction.text import CountVectorizer\n",
        "from sklearn.metrics import confusion_matrix\n",
        "from sklearn import metrics\n",
        "from sklearn.metrics import roc_curve, auc\n",
        "from nltk.stem.porter import PorterStemmer\n",
        "\n",
        "import re\n",
        "# Tutorial about Python regular expressions: https://pymotw.com/2/re/\n",
        "import string\n",
        "from nltk.corpus import stopwords\n",
        "from nltk.stem import PorterStemmer\n",
        "from nltk.stem.wordnet import WordNetLemmatizer\n",
        "\n",
        "from gensim.models import Word2Vec\n",
        "from gensim.models import KeyedVectors\n",
        "import pickle\n",
        "\n",
        "from tqdm import tqdm\n",
        "import os\n",
        "\n",
        "# importing Cross validation libs\n",
        "from sklearn.model_selection import train_test_split\n",
        "from sklearn.model_selection import cross_val_score\n",
        "from sklearn import model_selection\n",
        "\n",
        "# Python script for confusion matrix creation. \n",
        "from sklearn.metrics import confusion_matrix \n",
        "from sklearn.metrics import accuracy_score \n",
        "from sklearn.metrics import classification_report \n",
        "# roc curve and auc\n",
        "from sklearn.datasets import make_classification\n",
        "from sklearn.metrics import roc_curve\n",
        "from sklearn.metrics import roc_auc_score\n",
        "from matplotlib import pyplot\n",
        "from sklearn.metrics import roc_curve, auc\n",
        "from sklearn.model_selection import GridSearchCV\n",
        "\n",
        "import seaborn as sns\n",
        "\n",
        "from sklearn.model_selection import TimeSeriesSplit\n",
        "from sklearn.model_selection import RandomizedSearchCV\n",
        "import numpy as np\n",
        "from sklearn.metrics import f1_score,recall_score,precision_score\n",
        "\n",
        "from sklearn.linear_model import SGDClassifier\n",
        "from sklearn.calibration import CalibratedClassifierCV\n",
        "from sklearn.svm import SVC\n",
        "from sklearn_pandas import DataFrameMapper\n",
        "from joblib import dump, load\n"
      ]
    },
    {
      "cell_type": "code",
      "execution_count": null,
      "metadata": {
        "id": "tD55o1HRkA1Y",
        "outputId": "6071ccef-f778-4723-cccc-3c7fabbdae36"
      },
      "outputs": [
        {
          "name": "stdout",
          "output_type": "stream",
          "text": [
            "Number of data points in our data (40000, 10)\n"
          ]
        },
        {
          "data": {
            "text/html": [
              "<div>\n",
              "<style scoped>\n",
              "    .dataframe tbody tr th:only-of-type {\n",
              "        vertical-align: middle;\n",
              "    }\n",
              "\n",
              "    .dataframe tbody tr th {\n",
              "        vertical-align: top;\n",
              "    }\n",
              "\n",
              "    .dataframe thead th {\n",
              "        text-align: right;\n",
              "    }\n",
              "</style>\n",
              "<table border=\"1\" class=\"dataframe\">\n",
              "  <thead>\n",
              "    <tr style=\"text-align: right;\">\n",
              "      <th></th>\n",
              "      <th>Id</th>\n",
              "      <th>ProductId</th>\n",
              "      <th>UserId</th>\n",
              "      <th>ProfileName</th>\n",
              "      <th>HelpfulnessNumerator</th>\n",
              "      <th>HelpfulnessDenominator</th>\n",
              "      <th>Score</th>\n",
              "      <th>Time</th>\n",
              "      <th>Summary</th>\n",
              "      <th>Text</th>\n",
              "    </tr>\n",
              "  </thead>\n",
              "  <tbody>\n",
              "    <tr>\n",
              "      <th>0</th>\n",
              "      <td>1</td>\n",
              "      <td>B001E4KFG0</td>\n",
              "      <td>A3SGXH7AUHU8GW</td>\n",
              "      <td>delmartian</td>\n",
              "      <td>1</td>\n",
              "      <td>1</td>\n",
              "      <td>1</td>\n",
              "      <td>1303862400</td>\n",
              "      <td>Good Quality Dog Food</td>\n",
              "      <td>I have bought several of the Vitality canned d...</td>\n",
              "    </tr>\n",
              "    <tr>\n",
              "      <th>1</th>\n",
              "      <td>2</td>\n",
              "      <td>B00813GRG4</td>\n",
              "      <td>A1D87F6ZCVE5NK</td>\n",
              "      <td>dll pa</td>\n",
              "      <td>0</td>\n",
              "      <td>0</td>\n",
              "      <td>0</td>\n",
              "      <td>1346976000</td>\n",
              "      <td>Not as Advertised</td>\n",
              "      <td>Product arrived labeled as Jumbo Salted Peanut...</td>\n",
              "    </tr>\n",
              "    <tr>\n",
              "      <th>2</th>\n",
              "      <td>3</td>\n",
              "      <td>B000LQOCH0</td>\n",
              "      <td>ABXLMWJIXXAIN</td>\n",
              "      <td>Natalia Corres \"Natalia Corres\"</td>\n",
              "      <td>1</td>\n",
              "      <td>1</td>\n",
              "      <td>1</td>\n",
              "      <td>1219017600</td>\n",
              "      <td>\"Delight\" says it all</td>\n",
              "      <td>This is a confection that has been around a fe...</td>\n",
              "    </tr>\n",
              "  </tbody>\n",
              "</table>\n",
              "</div>"
            ],
            "text/plain": [
              "   Id   ProductId          UserId                      ProfileName  \\\n",
              "0   1  B001E4KFG0  A3SGXH7AUHU8GW                       delmartian   \n",
              "1   2  B00813GRG4  A1D87F6ZCVE5NK                           dll pa   \n",
              "2   3  B000LQOCH0   ABXLMWJIXXAIN  Natalia Corres \"Natalia Corres\"   \n",
              "\n",
              "   HelpfulnessNumerator  HelpfulnessDenominator  Score        Time  \\\n",
              "0                     1                       1      1  1303862400   \n",
              "1                     0                       0      0  1346976000   \n",
              "2                     1                       1      1  1219017600   \n",
              "\n",
              "                 Summary                                               Text  \n",
              "0  Good Quality Dog Food  I have bought several of the Vitality canned d...  \n",
              "1      Not as Advertised  Product arrived labeled as Jumbo Salted Peanut...  \n",
              "2  \"Delight\" says it all  This is a confection that has been around a fe...  "
            ]
          },
          "execution_count": 120,
          "metadata": {},
          "output_type": "execute_result"
        }
      ],
      "source": [
        "\n",
        "con = sqlite3.connect(r'/home/pranay/ML datasource/amazon-fine-food-reviews/database.sqlite') \n",
        "\n",
        "\n",
        "\n",
        "filtered_data = pd.read_sql_query(\"\"\" SELECT * FROM Reviews WHERE Score != 3 LIMIT 40000\"\"\", con) \n",
        "\n",
        "\n",
        "def partition(x):\n",
        "    if x < 3:\n",
        "        return 0\n",
        "    return 1\n",
        "\n",
        "\n",
        "actualScore = filtered_data['Score']\n",
        "positiveNegative = actualScore.map(partition) \n",
        "filtered_data['Score'] = positiveNegative\n",
        "print(\"Number of data points in our data\", filtered_data.shape)\n",
        "filtered_data.head(3)"
      ]
    },
    {
      "cell_type": "code",
      "execution_count": null,
      "metadata": {
        "id": "6NM-q0JjkA1Z"
      },
      "outputs": [],
      "source": [
        "display = pd.read_sql_query(\"\"\"\n",
        "SELECT UserId, ProductId, ProfileName, Time, Score, Text, COUNT(*)\n",
        "FROM Reviews\n",
        "GROUP BY UserId\n",
        "HAVING COUNT(*)>1\n",
        "\"\"\", con)"
      ]
    },
    {
      "cell_type": "code",
      "execution_count": null,
      "metadata": {
        "scrolled": true,
        "id": "-RCOEFwjkA1Z",
        "outputId": "87df037f-19aa-4506-ecf3-23da21763417"
      },
      "outputs": [
        {
          "name": "stdout",
          "output_type": "stream",
          "text": [
            "(80668, 7)\n"
          ]
        },
        {
          "data": {
            "text/html": [
              "<div>\n",
              "<style scoped>\n",
              "    .dataframe tbody tr th:only-of-type {\n",
              "        vertical-align: middle;\n",
              "    }\n",
              "\n",
              "    .dataframe tbody tr th {\n",
              "        vertical-align: top;\n",
              "    }\n",
              "\n",
              "    .dataframe thead th {\n",
              "        text-align: right;\n",
              "    }\n",
              "</style>\n",
              "<table border=\"1\" class=\"dataframe\">\n",
              "  <thead>\n",
              "    <tr style=\"text-align: right;\">\n",
              "      <th></th>\n",
              "      <th>UserId</th>\n",
              "      <th>ProductId</th>\n",
              "      <th>ProfileName</th>\n",
              "      <th>Time</th>\n",
              "      <th>Score</th>\n",
              "      <th>Text</th>\n",
              "      <th>COUNT(*)</th>\n",
              "    </tr>\n",
              "  </thead>\n",
              "  <tbody>\n",
              "    <tr>\n",
              "      <th>0</th>\n",
              "      <td>#oc-R115TNMSPFT9I7</td>\n",
              "      <td>B005ZBZLT4</td>\n",
              "      <td>Breyton</td>\n",
              "      <td>1331510400</td>\n",
              "      <td>2</td>\n",
              "      <td>Overall its just OK when considering the price...</td>\n",
              "      <td>2</td>\n",
              "    </tr>\n",
              "    <tr>\n",
              "      <th>1</th>\n",
              "      <td>#oc-R11D9D7SHXIJB9</td>\n",
              "      <td>B005HG9ESG</td>\n",
              "      <td>Louis E. Emory \"hoppy\"</td>\n",
              "      <td>1342396800</td>\n",
              "      <td>5</td>\n",
              "      <td>My wife has recurring extreme muscle spasms, u...</td>\n",
              "      <td>3</td>\n",
              "    </tr>\n",
              "    <tr>\n",
              "      <th>2</th>\n",
              "      <td>#oc-R11DNU2NBKQ23Z</td>\n",
              "      <td>B005ZBZLT4</td>\n",
              "      <td>Kim Cieszykowski</td>\n",
              "      <td>1348531200</td>\n",
              "      <td>1</td>\n",
              "      <td>This coffee is horrible and unfortunately not ...</td>\n",
              "      <td>2</td>\n",
              "    </tr>\n",
              "    <tr>\n",
              "      <th>3</th>\n",
              "      <td>#oc-R11O5J5ZVQE25C</td>\n",
              "      <td>B005HG9ESG</td>\n",
              "      <td>Penguin Chick</td>\n",
              "      <td>1346889600</td>\n",
              "      <td>5</td>\n",
              "      <td>This will be the bottle that you grab from the...</td>\n",
              "      <td>3</td>\n",
              "    </tr>\n",
              "    <tr>\n",
              "      <th>4</th>\n",
              "      <td>#oc-R12KPBODL2B5ZD</td>\n",
              "      <td>B007OSBEV0</td>\n",
              "      <td>Christopher P. Presta</td>\n",
              "      <td>1348617600</td>\n",
              "      <td>1</td>\n",
              "      <td>I didnt like this coffee. Instead of telling y...</td>\n",
              "      <td>2</td>\n",
              "    </tr>\n",
              "  </tbody>\n",
              "</table>\n",
              "</div>"
            ],
            "text/plain": [
              "               UserId   ProductId             ProfileName        Time  Score  \\\n",
              "0  #oc-R115TNMSPFT9I7  B005ZBZLT4                 Breyton  1331510400      2   \n",
              "1  #oc-R11D9D7SHXIJB9  B005HG9ESG  Louis E. Emory \"hoppy\"  1342396800      5   \n",
              "2  #oc-R11DNU2NBKQ23Z  B005ZBZLT4        Kim Cieszykowski  1348531200      1   \n",
              "3  #oc-R11O5J5ZVQE25C  B005HG9ESG           Penguin Chick  1346889600      5   \n",
              "4  #oc-R12KPBODL2B5ZD  B007OSBEV0   Christopher P. Presta  1348617600      1   \n",
              "\n",
              "                                                Text  COUNT(*)  \n",
              "0  Overall its just OK when considering the price...         2  \n",
              "1  My wife has recurring extreme muscle spasms, u...         3  \n",
              "2  This coffee is horrible and unfortunately not ...         2  \n",
              "3  This will be the bottle that you grab from the...         3  \n",
              "4  I didnt like this coffee. Instead of telling y...         2  "
            ]
          },
          "execution_count": 122,
          "metadata": {},
          "output_type": "execute_result"
        }
      ],
      "source": [
        "print(display.shape)\n",
        "display.head()"
      ]
    },
    {
      "cell_type": "code",
      "execution_count": null,
      "metadata": {
        "id": "MvwGtTaIkA1a",
        "outputId": "d4f73cf8-d2b1-441d-ccec-e31a8327fab9"
      },
      "outputs": [
        {
          "data": {
            "text/html": [
              "<div>\n",
              "<style scoped>\n",
              "    .dataframe tbody tr th:only-of-type {\n",
              "        vertical-align: middle;\n",
              "    }\n",
              "\n",
              "    .dataframe tbody tr th {\n",
              "        vertical-align: top;\n",
              "    }\n",
              "\n",
              "    .dataframe thead th {\n",
              "        text-align: right;\n",
              "    }\n",
              "</style>\n",
              "<table border=\"1\" class=\"dataframe\">\n",
              "  <thead>\n",
              "    <tr style=\"text-align: right;\">\n",
              "      <th></th>\n",
              "      <th>UserId</th>\n",
              "      <th>ProductId</th>\n",
              "      <th>ProfileName</th>\n",
              "      <th>Time</th>\n",
              "      <th>Score</th>\n",
              "      <th>Text</th>\n",
              "      <th>COUNT(*)</th>\n",
              "    </tr>\n",
              "  </thead>\n",
              "  <tbody>\n",
              "    <tr>\n",
              "      <th>80638</th>\n",
              "      <td>AZY10LLTJ71NX</td>\n",
              "      <td>B001ATMQK2</td>\n",
              "      <td>undertheshrine \"undertheshrine\"</td>\n",
              "      <td>1296691200</td>\n",
              "      <td>5</td>\n",
              "      <td>I bought this 6 pack because for the price tha...</td>\n",
              "      <td>5</td>\n",
              "    </tr>\n",
              "  </tbody>\n",
              "</table>\n",
              "</div>"
            ],
            "text/plain": [
              "              UserId   ProductId                      ProfileName        Time  \\\n",
              "80638  AZY10LLTJ71NX  B001ATMQK2  undertheshrine \"undertheshrine\"  1296691200   \n",
              "\n",
              "       Score                                               Text  COUNT(*)  \n",
              "80638      5  I bought this 6 pack because for the price tha...         5  "
            ]
          },
          "execution_count": 123,
          "metadata": {},
          "output_type": "execute_result"
        }
      ],
      "source": [
        "display[display['UserId']=='AZY10LLTJ71NX']"
      ]
    },
    {
      "cell_type": "code",
      "execution_count": null,
      "metadata": {
        "id": "KksXsSW4kA1a",
        "outputId": "b1513f5d-3e00-4cee-ebbe-144143f42e3f"
      },
      "outputs": [
        {
          "data": {
            "text/plain": [
              "393063"
            ]
          },
          "execution_count": 124,
          "metadata": {},
          "output_type": "execute_result"
        }
      ],
      "source": [
        "display['COUNT(*)'].sum()"
      ]
    },
    {
      "cell_type": "code",
      "execution_count": null,
      "metadata": {
        "scrolled": false,
        "id": "LXh6SXekkA1c",
        "outputId": "7f673cfc-d616-489e-ff03-3f7e4a99977e"
      },
      "outputs": [
        {
          "data": {
            "text/html": [
              "<div>\n",
              "<style scoped>\n",
              "    .dataframe tbody tr th:only-of-type {\n",
              "        vertical-align: middle;\n",
              "    }\n",
              "\n",
              "    .dataframe tbody tr th {\n",
              "        vertical-align: top;\n",
              "    }\n",
              "\n",
              "    .dataframe thead th {\n",
              "        text-align: right;\n",
              "    }\n",
              "</style>\n",
              "<table border=\"1\" class=\"dataframe\">\n",
              "  <thead>\n",
              "    <tr style=\"text-align: right;\">\n",
              "      <th></th>\n",
              "      <th>Id</th>\n",
              "      <th>ProductId</th>\n",
              "      <th>UserId</th>\n",
              "      <th>ProfileName</th>\n",
              "      <th>HelpfulnessNumerator</th>\n",
              "      <th>HelpfulnessDenominator</th>\n",
              "      <th>Score</th>\n",
              "      <th>Time</th>\n",
              "      <th>Summary</th>\n",
              "      <th>Text</th>\n",
              "    </tr>\n",
              "  </thead>\n",
              "  <tbody>\n",
              "    <tr>\n",
              "      <th>0</th>\n",
              "      <td>78445</td>\n",
              "      <td>B000HDL1RQ</td>\n",
              "      <td>AR5J8UI46CURR</td>\n",
              "      <td>Geetha Krishnan</td>\n",
              "      <td>2</td>\n",
              "      <td>2</td>\n",
              "      <td>5</td>\n",
              "      <td>1199577600</td>\n",
              "      <td>LOACKER QUADRATINI VANILLA WAFERS</td>\n",
              "      <td>DELICIOUS WAFERS. I FIND THAT EUROPEAN WAFERS ...</td>\n",
              "    </tr>\n",
              "    <tr>\n",
              "      <th>1</th>\n",
              "      <td>138317</td>\n",
              "      <td>B000HDOPYC</td>\n",
              "      <td>AR5J8UI46CURR</td>\n",
              "      <td>Geetha Krishnan</td>\n",
              "      <td>2</td>\n",
              "      <td>2</td>\n",
              "      <td>5</td>\n",
              "      <td>1199577600</td>\n",
              "      <td>LOACKER QUADRATINI VANILLA WAFERS</td>\n",
              "      <td>DELICIOUS WAFERS. I FIND THAT EUROPEAN WAFERS ...</td>\n",
              "    </tr>\n",
              "    <tr>\n",
              "      <th>2</th>\n",
              "      <td>138277</td>\n",
              "      <td>B000HDOPYM</td>\n",
              "      <td>AR5J8UI46CURR</td>\n",
              "      <td>Geetha Krishnan</td>\n",
              "      <td>2</td>\n",
              "      <td>2</td>\n",
              "      <td>5</td>\n",
              "      <td>1199577600</td>\n",
              "      <td>LOACKER QUADRATINI VANILLA WAFERS</td>\n",
              "      <td>DELICIOUS WAFERS. I FIND THAT EUROPEAN WAFERS ...</td>\n",
              "    </tr>\n",
              "    <tr>\n",
              "      <th>3</th>\n",
              "      <td>73791</td>\n",
              "      <td>B000HDOPZG</td>\n",
              "      <td>AR5J8UI46CURR</td>\n",
              "      <td>Geetha Krishnan</td>\n",
              "      <td>2</td>\n",
              "      <td>2</td>\n",
              "      <td>5</td>\n",
              "      <td>1199577600</td>\n",
              "      <td>LOACKER QUADRATINI VANILLA WAFERS</td>\n",
              "      <td>DELICIOUS WAFERS. I FIND THAT EUROPEAN WAFERS ...</td>\n",
              "    </tr>\n",
              "    <tr>\n",
              "      <th>4</th>\n",
              "      <td>155049</td>\n",
              "      <td>B000PAQ75C</td>\n",
              "      <td>AR5J8UI46CURR</td>\n",
              "      <td>Geetha Krishnan</td>\n",
              "      <td>2</td>\n",
              "      <td>2</td>\n",
              "      <td>5</td>\n",
              "      <td>1199577600</td>\n",
              "      <td>LOACKER QUADRATINI VANILLA WAFERS</td>\n",
              "      <td>DELICIOUS WAFERS. I FIND THAT EUROPEAN WAFERS ...</td>\n",
              "    </tr>\n",
              "  </tbody>\n",
              "</table>\n",
              "</div>"
            ],
            "text/plain": [
              "       Id   ProductId         UserId      ProfileName  HelpfulnessNumerator  \\\n",
              "0   78445  B000HDL1RQ  AR5J8UI46CURR  Geetha Krishnan                     2   \n",
              "1  138317  B000HDOPYC  AR5J8UI46CURR  Geetha Krishnan                     2   \n",
              "2  138277  B000HDOPYM  AR5J8UI46CURR  Geetha Krishnan                     2   \n",
              "3   73791  B000HDOPZG  AR5J8UI46CURR  Geetha Krishnan                     2   \n",
              "4  155049  B000PAQ75C  AR5J8UI46CURR  Geetha Krishnan                     2   \n",
              "\n",
              "   HelpfulnessDenominator  Score        Time  \\\n",
              "0                       2      5  1199577600   \n",
              "1                       2      5  1199577600   \n",
              "2                       2      5  1199577600   \n",
              "3                       2      5  1199577600   \n",
              "4                       2      5  1199577600   \n",
              "\n",
              "                             Summary  \\\n",
              "0  LOACKER QUADRATINI VANILLA WAFERS   \n",
              "1  LOACKER QUADRATINI VANILLA WAFERS   \n",
              "2  LOACKER QUADRATINI VANILLA WAFERS   \n",
              "3  LOACKER QUADRATINI VANILLA WAFERS   \n",
              "4  LOACKER QUADRATINI VANILLA WAFERS   \n",
              "\n",
              "                                                Text  \n",
              "0  DELICIOUS WAFERS. I FIND THAT EUROPEAN WAFERS ...  \n",
              "1  DELICIOUS WAFERS. I FIND THAT EUROPEAN WAFERS ...  \n",
              "2  DELICIOUS WAFERS. I FIND THAT EUROPEAN WAFERS ...  \n",
              "3  DELICIOUS WAFERS. I FIND THAT EUROPEAN WAFERS ...  \n",
              "4  DELICIOUS WAFERS. I FIND THAT EUROPEAN WAFERS ...  "
            ]
          },
          "execution_count": 125,
          "metadata": {},
          "output_type": "execute_result"
        }
      ],
      "source": [
        "display= pd.read_sql_query(\"\"\"\n",
        "SELECT *\n",
        "FROM Reviews\n",
        "WHERE Score != 3 AND UserId=\"AR5J8UI46CURR\"\n",
        "ORDER BY ProductID\n",
        "\"\"\", con)\n",
        "display.head()"
      ]
    },
    {
      "cell_type": "code",
      "execution_count": null,
      "metadata": {
        "id": "RHZLHR3kkA1c"
      },
      "outputs": [],
      "source": [
        "#Sorting data according to ProductId in ascending order\n",
        "sorted_data=filtered_data.sort_values('ProductId', axis=0, ascending=True, inplace=False, kind='quicksort', na_position='last')"
      ]
    },
    {
      "cell_type": "code",
      "execution_count": null,
      "metadata": {
        "id": "fStQ4WH9kA1d",
        "outputId": "4f704ffe-94f8-4bb0-ed88-b3bf35ecefd9"
      },
      "outputs": [
        {
          "data": {
            "text/plain": [
              "(37415, 10)"
            ]
          },
          "execution_count": 127,
          "metadata": {},
          "output_type": "execute_result"
        }
      ],
      "source": [
        "#Deduplication of entries\n",
        "final=sorted_data.drop_duplicates(subset={\"UserId\",\"ProfileName\",\"Time\",\"Text\"}, keep='first', inplace=False)\n",
        "final.shape"
      ]
    },
    {
      "cell_type": "code",
      "execution_count": null,
      "metadata": {
        "id": "EsuIIEpjkA1d",
        "outputId": "eee5f276-ecf5-4761-d5a3-1d2252b5d64d"
      },
      "outputs": [
        {
          "data": {
            "text/plain": [
              "93.5375"
            ]
          },
          "execution_count": 128,
          "metadata": {},
          "output_type": "execute_result"
        }
      ],
      "source": [
        "#Checking to see how much % of data still remains\n",
        "(final['Id'].size*1.0)/(filtered_data['Id'].size*1.0)*100"
      ]
    },
    {
      "cell_type": "markdown",
      "metadata": {
        "id": "19pEdTgIkA1d"
      },
      "source": [
        "<b>Observation:-</b> It was also seen that in two rows given below the value of HelpfulnessNumerator is greater than HelpfulnessDenominator which is not practically possible hence these two rows too are removed from calcualtions"
      ]
    },
    {
      "cell_type": "code",
      "execution_count": null,
      "metadata": {
        "id": "80toHS6LkA1d",
        "outputId": "8a11b62b-e601-47c9-817e-3e140fa9a8ba"
      },
      "outputs": [
        {
          "data": {
            "text/html": [
              "<div>\n",
              "<style scoped>\n",
              "    .dataframe tbody tr th:only-of-type {\n",
              "        vertical-align: middle;\n",
              "    }\n",
              "\n",
              "    .dataframe tbody tr th {\n",
              "        vertical-align: top;\n",
              "    }\n",
              "\n",
              "    .dataframe thead th {\n",
              "        text-align: right;\n",
              "    }\n",
              "</style>\n",
              "<table border=\"1\" class=\"dataframe\">\n",
              "  <thead>\n",
              "    <tr style=\"text-align: right;\">\n",
              "      <th></th>\n",
              "      <th>Id</th>\n",
              "      <th>ProductId</th>\n",
              "      <th>UserId</th>\n",
              "      <th>ProfileName</th>\n",
              "      <th>HelpfulnessNumerator</th>\n",
              "      <th>HelpfulnessDenominator</th>\n",
              "      <th>Score</th>\n",
              "      <th>Time</th>\n",
              "      <th>Summary</th>\n",
              "      <th>Text</th>\n",
              "    </tr>\n",
              "  </thead>\n",
              "  <tbody>\n",
              "    <tr>\n",
              "      <th>0</th>\n",
              "      <td>64422</td>\n",
              "      <td>B000MIDROQ</td>\n",
              "      <td>A161DK06JJMCYF</td>\n",
              "      <td>J. E. Stephens \"Jeanne\"</td>\n",
              "      <td>3</td>\n",
              "      <td>1</td>\n",
              "      <td>5</td>\n",
              "      <td>1224892800</td>\n",
              "      <td>Bought This for My Son at College</td>\n",
              "      <td>My son loves spaghetti so I didn't hesitate or...</td>\n",
              "    </tr>\n",
              "    <tr>\n",
              "      <th>1</th>\n",
              "      <td>44737</td>\n",
              "      <td>B001EQ55RW</td>\n",
              "      <td>A2V0I904FH7ABY</td>\n",
              "      <td>Ram</td>\n",
              "      <td>3</td>\n",
              "      <td>2</td>\n",
              "      <td>4</td>\n",
              "      <td>1212883200</td>\n",
              "      <td>Pure cocoa taste with crunchy almonds inside</td>\n",
              "      <td>It was almost a 'love at first bite' - the per...</td>\n",
              "    </tr>\n",
              "  </tbody>\n",
              "</table>\n",
              "</div>"
            ],
            "text/plain": [
              "      Id   ProductId          UserId              ProfileName  \\\n",
              "0  64422  B000MIDROQ  A161DK06JJMCYF  J. E. Stephens \"Jeanne\"   \n",
              "1  44737  B001EQ55RW  A2V0I904FH7ABY                      Ram   \n",
              "\n",
              "   HelpfulnessNumerator  HelpfulnessDenominator  Score        Time  \\\n",
              "0                     3                       1      5  1224892800   \n",
              "1                     3                       2      4  1212883200   \n",
              "\n",
              "                                        Summary  \\\n",
              "0             Bought This for My Son at College   \n",
              "1  Pure cocoa taste with crunchy almonds inside   \n",
              "\n",
              "                                                Text  \n",
              "0  My son loves spaghetti so I didn't hesitate or...  \n",
              "1  It was almost a 'love at first bite' - the per...  "
            ]
          },
          "execution_count": 129,
          "metadata": {},
          "output_type": "execute_result"
        }
      ],
      "source": [
        "display= pd.read_sql_query(\"\"\"\n",
        "SELECT *\n",
        "FROM Reviews\n",
        "WHERE Score != 3 AND Id=44737 OR Id=64422\n",
        "ORDER BY ProductID\n",
        "\"\"\", con)\n",
        "\n",
        "display.head()"
      ]
    },
    {
      "cell_type": "code",
      "execution_count": null,
      "metadata": {
        "id": "iwtcIo3ZkA1e"
      },
      "outputs": [],
      "source": [
        "final=final[final.HelpfulnessNumerator<=final.HelpfulnessDenominator]"
      ]
    },
    {
      "cell_type": "code",
      "execution_count": null,
      "metadata": {
        "id": "IGnu39bwkA1e",
        "outputId": "a5ff9f99-a245-4fee-ffd1-b759628a2f9f"
      },
      "outputs": [
        {
          "name": "stdout",
          "output_type": "stream",
          "text": [
            "(37415, 10)\n"
          ]
        },
        {
          "data": {
            "text/plain": [
              "1    31324\n",
              "0     6091\n",
              "Name: Score, dtype: int64"
            ]
          },
          "execution_count": 131,
          "metadata": {},
          "output_type": "execute_result"
        }
      ],
      "source": [
        "#Before starting the next phase of preprocessing lets see the number of entries left\n",
        "print(final.shape)\n",
        "\n",
        "#How many positive and negative reviews are present in our dataset?\n",
        "final['Score'].value_counts()"
      ]
    },
    {
      "cell_type": "code",
      "execution_count": null,
      "metadata": {
        "id": "fYAo3xR2kA1h",
        "outputId": "9f70a6f9-fa9c-4d3b-c5be-bdeced85130a"
      },
      "outputs": [
        {
          "name": "stderr",
          "output_type": "stream",
          "text": [
            "100%|██████████| 37415/37415 [00:07<00:00, 5053.69it/s]\n"
          ]
        },
        {
          "data": {
            "text/plain": [
              "'perfect'"
            ]
          },
          "execution_count": 143,
          "metadata": {},
          "output_type": "execute_result"
        }
      ],
      "source": [
        "preprocessed_summary = filterised_text(final['Summary'].values)\n",
        "final['preprocessed_summary']  = preprocessed_summary\n",
        "preprocessed_summary[1822]"
      ]
    },
    {
      "cell_type": "code",
      "execution_count": null,
      "metadata": {
        "id": "AModdPl5kA1i",
        "outputId": "0f54a1bf-694c-4690-abea-168e265fb219"
      },
      "outputs": [
        {
          "name": "stdout",
          "output_type": "stream",
          "text": [
            "(26190,) (11225,) (26190,) (11225,)\n"
          ]
        }
      ],
      "source": [
        "X = final['preprocessed_reviews']\n",
        "y = final['Score']\n",
        "\n",
        "# split the data set into train and test\n",
        "X_train, x_test, y_train, y_test = model_selection.train_test_split(X, y, test_size=0.3,random_state=0)\n",
        "\n",
        "print(X_train.shape, x_test.shape, y_train.shape, y_test.shape)"
      ]
    },
    {
      "cell_type": "code",
      "execution_count": null,
      "metadata": {
        "id": "LM56u4F6kA1i"
      },
      "outputs": [],
      "source": [
        "avg_w2v_trained_model_100000 = '/home/pranay/ML trained models/W2V/avg_w2v_trained_model_100000'\n",
        "avg_w2v_test_model_100000 = '/home/pranay/ML trained models/W2V/avg_w2v_test_model_100000'\n",
        "\n",
        "w2v_tf_idf_trained_model_100000 = '/home/pranay/ML trained models/W2V_TFIDF/w2v_tf_idf_trained_model_100000'\n",
        "w2v_tf_idf_test_model_100000 = '/home/pranay/ML trained models/W2V_TFIDF/w2v_tf_idf_test_model_100000'"
      ]
    },
    {
      "cell_type": "code",
      "execution_count": null,
      "metadata": {
        "id": "5NRjG16RkA1i"
      },
      "outputs": [],
      "source": [
        "# Common Methods\n",
        "\n",
        "alpha_values = (1e-4, 1e-3,1e-2,0.05,1e-1,0.5, 1e0,1e1,1e2,1e3)\n",
        "gamma_values = [0.0001, 0.001, 0.01, 0.1, 0.5, 1]\n",
        "\n",
        "def finding_best_alpha(X_tr,y_tr,which_method,whichAlgo, penalty):\n",
        "\n",
        "    if whichAlgo == 'SGDClassifier' :\n",
        "        # instantiate a SGDClassifier\n",
        "        if penalty == 'l1':\n",
        "            clf = SGDClassifier(loss='hinge', class_weight='balanced',n_jobs=-1, penalty='l1', random_state=1)\n",
        "        else:\n",
        "            clf = SGDClassifier(loss='hinge', class_weight='balanced',n_jobs=-1, penalty='l2', random_state=1)\n",
        "        param_grid=dict(alpha=alpha_values)\n",
        "    else:\n",
        "        # instantiate a SVC\n",
        "        clf = SVC(kernel='rbf', class_weight='balanced')\n",
        "        param_grid=dict(gamma=gamma_values, C=gamma_values)\n",
        "        \n",
        "    #For time based splitting\n",
        "    tscv = TimeSeriesSplit(n_splits=10)\n",
        "    \n",
        "    if which_method == 'gridsearch':\n",
        "    \n",
        "        # instantiate the grid for training data\n",
        "        trained = GridSearchCV(clf, param_grid, cv=tscv, scoring='roc_auc',n_jobs =-1,verbose=10 )\n",
        "    else:\n",
        "        # instantiate the grid for training data\n",
        "        trained = RandomizedSearchCV(clf, param_grid, cv=tscv, scoring='roc_auc',n_jobs =-1,verbose=10, n_iter = 15)\n",
        "        \n",
        "    # fit with traing data\n",
        "    trained.fit(X_tr, y_tr)\n",
        "    \n",
        "    return trained\n",
        "\n",
        "\n",
        "# plot a graph which show difference between validation error and training error\n",
        "def plotAccuracyGraph(training_grid):\n",
        "    alpha_range = [i for i in alpha_values]\n",
        "    accuracy = [i for i in training_grid.cv_results_['mean_train_score']]\n",
        "    accuracy_test = [i for i in training_grid.cv_results_['mean_test_score']]\n",
        "    plt.semilogx(alpha_range, accuracy,'r',label='train_accuracy')\n",
        "    plt.semilogx(alpha_range, accuracy_test,'b',label='validation_accuracy')\n",
        "    plt.title('Accuracy plot')\n",
        "    plt.xlabel('Alpha') \n",
        "    plt.ylabel('Accuracy')\n",
        "    plt.grid('on')\n",
        "    plt.legend()\n",
        "    plt.show()\n",
        "\n",
        "# https://www.geeksforgeeks.org/confusion-matrix-machine-learning/    \n",
        "def plotConfusionMatrix(y_test,pred):\n",
        "    # calculate confusion matrix\n",
        "    cm =  confusion_matrix(y_test,pred)\n",
        "    class_label = ['negative', 'positive']\n",
        "    df_conf_matrix = pd.DataFrame(cm, index=class_label, columns=class_label)\n",
        "    # heatmap --> Plot rectangular data as a color-encoded matrix. \n",
        "    sns.heatmap(df_conf_matrix, annot=True, fmt='d')\n",
        "    # give title to graph\n",
        "    plt.title(\"Confusion Matrix\")\n",
        "    # mention axis label\n",
        "    plt.xlabel(\"Predicted\")\n",
        "    plt.ylabel(\"Actual\")\n",
        "    # show the plot\n",
        "    plt.show()\n",
        "    \n",
        "\n",
        "# https://machinelearningmastery.com/roc-curves-and-precision-recall-curves-for-classification-in-python/\n",
        "# plot AUC curve\n",
        "def plotAUC_ROC(nb_optimal,X_train, y_train, X_test, y_test):\n",
        "    # predict probabilities\n",
        "    test_probs = nb_optimal.predict_proba(X_test)\n",
        "    train_probs = nb_optimal.predict_proba(X_train)\n",
        "    \n",
        "    # keep probabilities for the positive outcome only\n",
        "    test_probs = test_probs[:, 1]\n",
        "    train_probs = train_probs[:, 1]\n",
        "    \n",
        "    # calculate AUC\n",
        "    test_auc = roc_auc_score(y_test, test_probs)\n",
        "    train_auc = roc_auc_score(y_train, train_probs)\n",
        "    \n",
        "    # calculate roc curve\n",
        "    train_fpr, train_tpr, thresholds = roc_curve(y_train, train_probs)\n",
        "    test_fpr, test_tpr, thresholds2 = roc_curve(y_test, test_probs)\n",
        "    \n",
        "    # plot no skill\n",
        "    pyplot.plot([0, 1], [0, 1], linestyle='--')\n",
        "    \n",
        "    # plot the roc curve for the model\n",
        "    pyplot.plot(train_fpr, train_tpr, 'r',marker='.', label=\"train AUC =\"+str(train_auc))\n",
        "    pyplot.plot(test_fpr, test_tpr, 'b',marker='.',label=\"test AUC =\"+str(test_auc))\n",
        "    \n",
        "    pyplot.legend()\n",
        "    pyplot.xlabel(\"K: hyperparameter\")\n",
        "    pyplot.ylabel(\"AUC\")\n",
        "    pyplot.title(\"ERROR PLOTS\")\n",
        "    # show the plot\n",
        "    pyplot.show()\n",
        "    \n",
        "    return train_auc, test_auc\n",
        "\n",
        "class color:\n",
        "   PURPLE = '\\033[95m'\n",
        "   CYAN = '\\033[96m'\n",
        "   DARKCYAN = '\\033[36m'\n",
        "   BLUE = '\\033[94m'\n",
        "   GREEN = '\\033[92m'\n",
        "   YELLOW = '\\033[93m'\n",
        "   RED = '\\033[91m'\n",
        "   BOLD = '\\033[1m'\n",
        "   UNDERLINE = '\\033[4m'\n",
        "   END = '\\033[0m'\n"
      ]
    },
    {
      "cell_type": "markdown",
      "metadata": {
        "id": "ZWlLq7OckA1k"
      },
      "source": [
        "## [4.3] TF-IDF"
      ]
    },
    {
      "cell_type": "code",
      "execution_count": null,
      "metadata": {
        "id": "2fh0JGqGkA1k",
        "outputId": "c43381b3-e9b9-4b17-f8b5-7ca978bcf455"
      },
      "outputs": [
        {
          "name": "stdout",
          "output_type": "stream",
          "text": [
            "(26190,) (11225,) (26190,) (11225,)\n",
            "X_train_tfidf (26190, 500)\n",
            "==============================\n",
            "x_test_tfidf (11225, 500)\n"
          ]
        }
      ],
      "source": [
        "X = final['preprocessed_reviews']\n",
        "y = final['Score']\n",
        "\n",
        "# split the data set into train and test\n",
        "X_train, x_test, y_train, y_test = model_selection.train_test_split(X, y, test_size=0.3,random_state=0)\n",
        "\n",
        "print(X_train.shape, x_test.shape, y_train.shape, y_test.shape)\n",
        "\n",
        "tf_idf_vect = TfidfVectorizer(ngram_range=(1,3), min_df=10,  max_features = 500) #in scikit-learn\n",
        "\n",
        "# train data\n",
        "X_train_tfidf = tf_idf_vect.fit_transform(X_train)\n",
        "\n",
        "# test data\n",
        "x_test_tfidf = tf_idf_vect.transform(x_test)\n",
        "\n",
        "print('X_train_tfidf', X_train_tfidf.shape)\n",
        "print('==='*10)\n",
        "print('x_test_tfidf', x_test_tfidf.shape)"
      ]
    },
    {
      "cell_type": "markdown",
      "metadata": {
        "id": "4AneU83lkA1k"
      },
      "source": [
        "### Hyper parameter tunign using GridSearch"
      ]
    },
    {
      "cell_type": "code",
      "execution_count": null,
      "metadata": {
        "id": "u9i_6lhqkA1k",
        "outputId": "9a7a4629-179d-456f-949b-ad35105b98cd"
      },
      "outputs": [
        {
          "name": "stdout",
          "output_type": "stream",
          "text": [
            "yes exists\n",
            "=======Training========\n",
            "0.9021741347522226\n",
            "{'C': 1, 'gamma': 1}\n",
            "SVC(C=1, cache_size=200, class_weight='balanced', coef0=0.0,\n",
            "  decision_function_shape='ovr', degree=3, gamma=1, kernel='rbf',\n",
            "  max_iter=-1, probability=False, random_state=None, shrinking=True,\n",
            "  tol=0.001, verbose=False)\n",
            "\n",
            "\u001b[91mOptimal best gamma is : \u001b[0m\u001b[1m1\u001b[0m\n",
            "\n",
            "\u001b[91mOptimal best C value is : \u001b[0m\u001b[1m1\u001b[0m\n"
          ]
        }
      ],
      "source": [
        "tfidf_hyperparam_path = '/home/pranay/Amazon Assignments/SVM RBF/tfidf_hyperparam_tune'\n",
        "exists = os.path.isfile(tfidf_hyperparam_path)\n",
        "\n",
        "if exists:\n",
        "    print('yes exists')\n",
        "    tfidf_train = load(tfidf_hyperparam_path)\n",
        "else:\n",
        "    print('not exists')\n",
        "    tfidf_train = finding_best_alpha (X_train_tfidf,y_train, 'gridsearch','RBF','l2')\n",
        "    dump(tfidf_train,tfidf_hyperparam_path)\n",
        "\n",
        "\n",
        "# view the complete results (list of named tuples)\n",
        "print(\"=======Training========\")\n",
        "print (tfidf_train.best_score_)\n",
        "print (tfidf_train.best_params_)\n",
        "print (tfidf_train.best_estimator_)\n",
        "\n",
        "gamma_val = tfidf_train.best_params_.get(\"gamma\", \"\")\n",
        "C_val = tfidf_train.best_params_.get(\"C\", \"\")\n",
        "print('\\n'+color.RED+'Optimal best gamma is : '+color.END+color.BOLD+str(gamma_val)+color.END)\n",
        "print('\\n'+color.RED+'Optimal best C value is : '+color.END+color.BOLD+str(C_val)+color.END)"
      ]
    },
    {
      "cell_type": "code",
      "execution_count": null,
      "metadata": {
        "id": "TZThXmTgkA1l",
        "outputId": "89091ffa-826b-459f-8220-01e6a5b2341e"
      },
      "outputs": [
        {
          "name": "stdout",
          "output_type": "stream",
          "text": [
            "\n",
            "\u001b[91mOptimal best gamma is : \u001b[0m\u001b[1m0.01\u001b[0m\n",
            "\n",
            "\u001b[91mOptimal best C value is : \u001b[0m\u001b[1m1\u001b[0m\n",
            "\n",
            "\u001b[1mConfusion Matrix for Train data\u001b[0m\n"
          ]
        },
        {
          "data": {
            "image/png": "[encoded data removed]",
            "text/plain": [
              "<Figure size 432x288 with 2 Axes>"
            ]
          },
          "metadata": {
            "needs_background": "light"
          },
          "output_type": "display_data"
        },
        {
          "name": "stdout",
          "output_type": "stream",
          "text": [
            "\n",
            "\u001b[1mConfusion Matrix for Test data\u001b[0m\n"
          ]
        },
        {
          "data": {
            "image/png": "[encoded data removed]",
            "text/plain": [
              "<Figure size 432x288 with 2 Axes>"
            ]
          },
          "metadata": {
            "needs_background": "light"
          },
          "output_type": "display_data"
        },
        {
          "data": {
            "image/png": "[encoded data removed]",
            "text/plain": [
              "<Figure size 432x288 with 1 Axes>"
            ]
          },
          "metadata": {
            "needs_background": "light"
          },
          "output_type": "display_data"
        },
        {
          "name": "stdout",
          "output_type": "stream",
          "text": [
            "\n",
            "\u001b[91mAUC (Train): \u001b[0m\u001b[1m0.8885206875816982\u001b[0m\n",
            "\n",
            "\u001b[91mAUC (Test): \u001b[0m\u001b[1m0.8782246697100446\u001b[0m\n",
            "\n",
            "\u001b[91mF1 SCORE (Train) : \u001b[0m\u001b[1m0.9271449786111665\u001b[0m\n",
            "\n",
            "\u001b[91mF1 SCORE (Test) : \u001b[0m\u001b[1m0.9242174629324547\u001b[0m\n",
            "\n",
            "\u001b[91mRECALL (Train): \u001b[0m\u001b[1m0.9555900763010006\u001b[0m\n",
            "\n",
            "\u001b[91mRECALL (Test): \u001b[0m\u001b[1m0.9511497297870086\u001b[0m\n",
            "\n",
            "\u001b[91mPRECISION  (Train) : \u001b[0m\u001b[1m0.9003443822643133\u001b[0m\n",
            "\n",
            "\u001b[91mPRECISION  (Test) : \u001b[0m\u001b[1m0.8987683989185942\u001b[0m\n"
          ]
        }
      ],
      "source": [
        "optimal_model = SVC(C=0.5, cache_size=200, class_weight='balanced', coef0=0.0,\n",
        "  decision_function_shape='ovr', degree=3, gamma=gamma_val,\n",
        "  kernel='rbf', max_iter=-1, probability=False, random_state=None,\n",
        "  shrinking=True, tol=0.001, verbose=False)\n",
        "\n",
        "# https://www.kaggle.com/mpearmain/calibrated-sgdclassifier\n",
        "\n",
        "model_calib = CalibratedClassifierCV(base_estimator=optimal_model, cv=5, method='isotonic')\n",
        "\n",
        "# fitting the model\n",
        "model_calib.fit(X_train_tfidf,y_train)\n",
        "\n",
        "# predict the response\n",
        "test_pred = model_calib.predict(x_test_tfidf)\n",
        "train_pred = model_calib.predict(X_train_tfidf)\n",
        "\n",
        "# plot confusion matrix\n",
        "\n",
        "print('\\n'+color.BOLD +'Confusion Matrix for Train data'+color.END)\n",
        "plotConfusionMatrix(y_train,train_pred)\n",
        "\n",
        "print('\\n'+color.BOLD +'Confusion Matrix for Test data'+color.END)\n",
        "plotConfusionMatrix(y_test,test_pred)\n",
        "\n",
        "# plot AUC\n",
        "train_auc,test_auc = plotAUC_ROC(model_calib,X_train_tfidf, y_train,x_test_tfidf, y_test )\n",
        "print('\\n'+color.RED+'AUC (Train): '+color.END+color.BOLD+str(train_auc)+color.END)\n",
        "print('\\n'+color.RED+'AUC (Test): '+color.END+color.BOLD+str(test_auc)+color.END)\n",
        "\n",
        "# f1 score\n",
        "score = f1_score(y_test,test_pred)\n",
        "print('\\n'+color.RED+'F1 SCORE (Train) : '+color.END+color.BOLD+str(f1_score(y_train,train_pred))+color.END)\n",
        "print('\\n'+color.RED+'F1 SCORE (Test) : '+color.END+color.BOLD+str(score)+color.END)\n",
        "\n",
        "# recall\n",
        "recall = metrics.recall_score(y_test, test_pred)\n",
        "print('\\n'+color.RED+'RECALL (Train): '+color.END+color.BOLD+str(metrics.recall_score(y_train, train_pred))+color.END)\n",
        "print('\\n'+color.RED+'RECALL (Test): '+color.END+color.BOLD+str(recall)+color.END)\n",
        "\n",
        "# precision\n",
        "precision = metrics.precision_score(y_test, test_pred)\n",
        "print('\\n'+color.RED+'PRECISION  (Train) : '+color.END+color.BOLD+str(metrics.precision_score(y_train, train_pred))+color.END)\n",
        "print('\\n'+color.RED+'PRECISION  (Test) : '+color.END+color.BOLD+str(precision)+color.END)"
      ]
    }
  ],
  "metadata": {
    "kernelspec": {
      "display_name": "Python 3",
      "language": "python",
      "name": "python3"
    },
    "language_info": {
      "codemirror_mode": {
        "name": "ipython",
        "version": 3
      },
      "file_extension": ".py",
      "mimetype": "text/x-python",
      "name": "python",
      "nbconvert_exporter": "python",
      "pygments_lexer": "ipython3",
      "version": "3.7.1"
    },
    "colab": {
      "name": "Sentimental Analysis RF.ipynb",
      "provenance": [],
      "collapsed_sections": []
    }
  },
  "nbformat": 4,
  "nbformat_minor": 0
}