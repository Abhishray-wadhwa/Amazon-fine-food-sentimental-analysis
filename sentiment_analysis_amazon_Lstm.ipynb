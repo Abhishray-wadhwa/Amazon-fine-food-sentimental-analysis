{
  "cells": [
    {
      "cell_type": "markdown",
      "metadata": {
        "id": "0viK7k5Rp6-i"
      },
      "source": [
        "# Sentiment Analysis of Amazon Fine Food Reviews using LSTM"
      ]
    },
    {
      "cell_type": "code",
      "execution_count": null,
      "metadata": {
        "_cell_guid": "b1076dfc-b9ad-4769-8c92-a6c4dae69d19",
        "_uuid": "8f2839f25d086af736a60e9eeb907d3b93b6e0e5",
        "id": "NThgZQpGp6-k",
        "outputId": "447e8694-391d-40c0-ff97-57c1d46bc90d"
      },
      "outputs": [
        {
          "name": "stderr",
          "output_type": "stream",
          "text": [
            "Using TensorFlow backend.\n"
          ]
        }
      ],
      "source": [
        "import numpy as np # linear algebra\n",
        "import pandas as pd # data processing, CSV file I/O (e.g. pd.read_csv)\n",
        "from nltk.corpus import stopwords\n",
        "from nltk.tokenize import word_tokenize\n",
        "from nltk.stem import WordNetLemmatizer\n",
        "import re\n",
        "import string\n",
        "import matplotlib.pyplot as plt\n",
        "import math\n",
        "from keras.models import Sequential\n",
        "from keras.layers import Dense\n",
        "from keras.layers import LSTM\n",
        "from keras.layers.embeddings import Embedding\n",
        "from keras.preprocessing.text import Tokenizer\n",
        "from keras.preprocessing import sequence\n",
        "from sklearn.preprocessing import MinMaxScaler\n",
        "from sklearn.metrics import mean_squared_error\n",
        "import seaborn as sns\n",
        "from sklearn.model_selection import train_test_split"
      ]
    },
    {
      "cell_type": "markdown",
      "metadata": {
        "id": "_AiEQgBYp6-m"
      },
      "source": [
        "Loading the Dataset"
      ]
    },
    {
      "cell_type": "code",
      "execution_count": null,
      "metadata": {
        "_cell_guid": "79c7e3d0-c299-4dcb-8224-4455121ee9b0",
        "_uuid": "d629ff2d2480ee46fbb7e2d37f6b5fab8052498a",
        "id": "ArSSmq25p6-n",
        "outputId": "8b190799-7577-4ab7-cea9-9065557f07d6"
      },
      "outputs": [
        {
          "name": "stdout",
          "output_type": "stream",
          "text": [
            "<class 'pandas.core.frame.DataFrame'>\n",
            "RangeIndex: 568454 entries, 0 to 568453\n",
            "Data columns (total 10 columns):\n",
            " #   Column                  Non-Null Count   Dtype \n",
            "---  ------                  --------------   ----- \n",
            " 0   Id                      568454 non-null  int64 \n",
            " 1   ProductId               568454 non-null  object\n",
            " 2   UserId                  568454 non-null  object\n",
            " 3   ProfileName             568438 non-null  object\n",
            " 4   HelpfulnessNumerator    568454 non-null  int64 \n",
            " 5   HelpfulnessDenominator  568454 non-null  int64 \n",
            " 6   Score                   568454 non-null  int64 \n",
            " 7   Time                    568454 non-null  int64 \n",
            " 8   Summary                 568427 non-null  object\n",
            " 9   Text                    568454 non-null  object\n",
            "dtypes: int64(5), object(5)\n",
            "memory usage: 43.4+ MB\n"
          ]
        }
      ],
      "source": [
        "df = pd.read_csv('../input/amazon-fine-food-reviews/Reviews.csv')\n",
        "df.shape\n",
        "df.info()"
      ]
    },
    {
      "cell_type": "markdown",
      "metadata": {
        "id": "SKl163cop6-o"
      },
      "source": [
        "**Add labels to reviews according to score values**\n",
        "* Drop the reviews with score 3. (neutral)\n",
        "* Those with a score value of 5 and 4 are labeled as positive, ie 1.\n",
        "* Those with a score value of 1 and 2 are labeled negative, ie 0."
      ]
    },
    {
      "cell_type": "code",
      "execution_count": null,
      "metadata": {
        "id": "zN14J1HKp6-o",
        "outputId": "e4f601eb-aa53-4412-e8a6-8d68ef074dcf"
      },
      "outputs": [
        {
          "name": "stdout",
          "output_type": "stream",
          "text": [
            "0\n"
          ]
        }
      ],
      "source": [
        "df=df[['Text','Score']]\n",
        "df['review']=df['Text']\n",
        "df['label']=df['Score']\n",
        "df.drop(['Text','Score'],axis=1,inplace=True)\n",
        "df.head()\n",
        "df = df[df['label'] != 3]  # drop rating values 3 reviews, neutral reviews\n",
        "\n",
        "def mark_sentiment(rating):\n",
        "    if(rating<3):\n",
        "        return 0 # negative \n",
        "    else:\n",
        "        return 1 # positive\n",
        "df['label']=df['label'].apply(mark_sentiment)\n",
        "\n",
        "# check missing value and duplicates\n",
        "print(df['label'].isnull().sum())\n",
        "df['review'].isnull().sum() \n",
        "df.drop_duplicates(subset=['label','review'],keep='first',inplace=True) "
      ]
    },
    {
      "cell_type": "markdown",
      "metadata": {
        "id": "my23ehIwp6-p"
      },
      "source": [
        "**Select balanced 20000 reviews**"
      ]
    },
    {
      "cell_type": "code",
      "execution_count": null,
      "metadata": {
        "id": "KghMShJZp6-p",
        "outputId": "157f4178-3343-4e1a-f249-61059ce12eab"
      },
      "outputs": [
        {
          "data": {
            "text/html": [
              "<div>\n",
              "<style scoped>\n",
              "    .dataframe tbody tr th:only-of-type {\n",
              "        vertical-align: middle;\n",
              "    }\n",
              "\n",
              "    .dataframe tbody tr th {\n",
              "        vertical-align: top;\n",
              "    }\n",
              "\n",
              "    .dataframe thead th {\n",
              "        text-align: right;\n",
              "    }\n",
              "</style>\n",
              "<table border=\"1\" class=\"dataframe\">\n",
              "  <thead>\n",
              "    <tr style=\"text-align: right;\">\n",
              "      <th></th>\n",
              "      <th>review</th>\n",
              "      <th>label</th>\n",
              "    </tr>\n",
              "  </thead>\n",
              "  <tbody>\n",
              "    <tr>\n",
              "      <th>0</th>\n",
              "      <td>I really like the wild ride jerky.  Very good ...</td>\n",
              "      <td>0</td>\n",
              "    </tr>\n",
              "    <tr>\n",
              "      <th>1</th>\n",
              "      <td>If you love Pork Rinds then these are the thin...</td>\n",
              "      <td>1</td>\n",
              "    </tr>\n",
              "    <tr>\n",
              "      <th>2</th>\n",
              "      <td>We bought both brands to try and found this on...</td>\n",
              "      <td>0</td>\n",
              "    </tr>\n",
              "    <tr>\n",
              "      <th>3</th>\n",
              "      <td>This powder is actually very good and this wou...</td>\n",
              "      <td>0</td>\n",
              "    </tr>\n",
              "    <tr>\n",
              "      <th>4</th>\n",
              "      <td>No expiration date on bottle.  Oil hard, had t...</td>\n",
              "      <td>0</td>\n",
              "    </tr>\n",
              "  </tbody>\n",
              "</table>\n",
              "</div>"
            ],
            "text/plain": [
              "                                              review  label\n",
              "0  I really like the wild ride jerky.  Very good ...      0\n",
              "1  If you love Pork Rinds then these are the thin...      1\n",
              "2  We bought both brands to try and found this on...      0\n",
              "3  This powder is actually very good and this wou...      0\n",
              "4  No expiration date on bottle.  Oil hard, had t...      0"
            ]
          },
          "execution_count": 4,
          "metadata": {},
          "output_type": "execute_result"
        }
      ],
      "source": [
        "pos_df=df.loc[df.label==1,:][:10000]\n",
        "neg_df=df.loc[df.label==0,:][:10000]\n",
        "df=pd.concat([pos_df,neg_df],ignore_index=True)\n",
        "df = df.sample(frac=1).reset_index(drop=True) #perform a random shuffle. It's a good practice to shuffle the data before splitting between a train and test set. That way the sentiment classes are equally distributed over the train and test sets. df = df.reindex(np.random.permutation(df.index))  \n",
        "df.head()"
      ]
    },
    {
      "cell_type": "markdown",
      "metadata": {
        "id": "TDrZxizlp6-q"
      },
      "source": [
        "**Data Distribution**"
      ]
    },
    {
      "cell_type": "code",
      "execution_count": null,
      "metadata": {
        "id": "jhNx_oMup6-q",
        "outputId": "ed49394b-6400-444d-9767-d702df27b9df"
      },
      "outputs": [
        {
          "data": {
            "image/png": "[encoded data removed]",
            "text/plain": [
              "<Figure size 432x288 with 1 Axes>"
            ]
          },
          "metadata": {},
          "output_type": "display_data"
        }
      ],
      "source": [
        "pie_label = [\"1 (Positive)\",\"0 (Negative)\"]\n",
        "pie_colors = [\"yellowgreen\", \"lightskyblue\"]\n",
        "plt.pie(df.label.value_counts(), labels=pie_label, colors=pie_colors, startangle=90, autopct='%.1f%%')\n",
        "plt.show()"
      ]
    },
    {
      "cell_type": "markdown",
      "metadata": {
        "id": "bN58TgXKp6-r"
      },
      "source": [
        "# Data Preprocesing"
      ]
    },
    {
      "cell_type": "code",
      "execution_count": null,
      "metadata": {
        "id": "i0QFik39p6-r"
      },
      "outputs": [],
      "source": [
        "df['review'] = df.review.apply(lambda x : x.lower())  # all reviews characters converts to lowercase\n",
        "df['review'] = df.review.apply(lambda x: re.sub(r'\\d+','', x))  # remove the numbers in reviews\n",
        "df['review'] = df.review.apply(lambda x: re.sub(r'[^\\w\\s]', ' ',x)) # remove the punctuations in reviews\n",
        "df['review'] = df.review.apply(lambda x: x.strip()) # remove whitespaces"
      ]
    },
    {
      "cell_type": "markdown",
      "metadata": {
        "id": "y25LYqjEp6-s"
      },
      "source": [
        "# Preparing the Embedding Layer"
      ]
    },
    {
      "cell_type": "markdown",
      "metadata": {
        "id": "WpqvsqGkp6-s"
      },
      "source": [
        "**Tokenizing the dataset**"
      ]
    },
    {
      "cell_type": "code",
      "execution_count": null,
      "metadata": {
        "id": "Yjo5QCjbp6-s"
      },
      "outputs": [],
      "source": [
        "x = df['review']\n",
        "y = df['label']\n",
        "x_train, x_test, y_train, y_test = train_test_split(x, y, test_size=0.20, random_state=42)\n",
        "\n",
        "tokenizer = Tokenizer(num_words=5000)  # Initialize the tokenizer with a 5000 word limit. This is the number of words we would like to encode.\n",
        "tokenizer.fit_on_texts(x_train) # we call fit_on_texts to create associations of words and numbers \n",
        "\n",
        "# After having created the dictionary we can convert the text to a list of integer indexes.\n",
        "# This is done with the text_to_sequences method of the Tokenizer.\n",
        "# calling text_to_sequence replaces the words in a sentence with their respective associated numbers.\n",
        "# This transforms each sentence into sequences of numbers.\n",
        "x_train = tokenizer.texts_to_sequences(x_train) \n",
        "x_test = tokenizer.texts_to_sequences(x_test) "
      ]
    },
    {
      "cell_type": "markdown",
      "metadata": {
        "id": "sSAa2ORHp6-s"
      },
      "source": [
        "**Padding the dataset**"
      ]
    },
    {
      "cell_type": "code",
      "execution_count": null,
      "metadata": {
        "id": "0advIBjdp6-t",
        "outputId": "f28b115b-f50f-474c-84f3-0fc0f9b646ee"
      },
      "outputs": [
        {
          "name": "stdout",
          "output_type": "stream",
          "text": [
            "(16000, 200)\n"
          ]
        }
      ],
      "source": [
        "# The reviews have different number of words, therefore, the length of the sequence of numbers will be different.\n",
        "# Our model requires inputs to have equal lengths, so we will have to pad the sequence to have the chosen length of inputs.\n",
        "# This is done by calling the pad_sequence method with a length of 200.\n",
        "vocab_size = len(tokenizer.word_index) + 1\n",
        "max_review_length = 200\n",
        "\n",
        "x_train = sequence.pad_sequences(x_train, maxlen=max_review_length)\n",
        "x_test = sequence.pad_sequences(x_test, maxlen=max_review_length)\n",
        "print(x_train.shape)"
      ]
    },
    {
      "cell_type": "markdown",
      "metadata": {
        "id": "5RTlHQBAp6-t"
      },
      "source": [
        "# Model 1 \n",
        "**Embedding -> LSTM -> Dense(Output(Sigmoid))**"
      ]
    },
    {
      "cell_type": "code",
      "execution_count": null,
      "metadata": {
        "id": "oGRsC2Xdp6-t",
        "outputId": "decce710-4377-407f-c07c-72f4406d651b"
      },
      "outputs": [
        {
          "name": "stderr",
          "output_type": "stream",
          "text": [
            "/opt/conda/lib/python3.7/site-packages/tensorflow/python/framework/indexed_slices.py:434: UserWarning: Converting sparse IndexedSlices to a dense Tensor of unknown shape. This may consume a large amount of memory.\n",
            "  \"Converting sparse IndexedSlices to a dense Tensor of unknown shape. \"\n"
          ]
        },
        {
          "name": "stdout",
          "output_type": "stream",
          "text": [
            "Train on 16000 samples, validate on 4000 samples\n",
            "Epoch 1/5\n",
            "16000/16000 [==============================] - 50s 3ms/step - loss: 0.4887 - accuracy: 0.7490 - val_loss: 0.3130 - val_accuracy: 0.8675\n",
            "Epoch 2/5\n",
            "16000/16000 [==============================] - 47s 3ms/step - loss: 0.2475 - accuracy: 0.9045 - val_loss: 0.2869 - val_accuracy: 0.8860\n",
            "Epoch 3/5\n",
            "16000/16000 [==============================] - 49s 3ms/step - loss: 0.1982 - accuracy: 0.9262 - val_loss: 0.2909 - val_accuracy: 0.8878\n",
            "Epoch 4/5\n",
            "16000/16000 [==============================] - 50s 3ms/step - loss: 0.1722 - accuracy: 0.9369 - val_loss: 0.2984 - val_accuracy: 0.8848\n",
            "Epoch 5/5\n",
            "16000/16000 [==============================] - 49s 3ms/step - loss: 0.1535 - accuracy: 0.9447 - val_loss: 0.3333 - val_accuracy: 0.8687\n",
            "Test Score: 0.33334745055437087\n",
            "Test Accuracy: 0.8687499761581421\n",
            "Accuracy: 86.87%\n"
          ]
        }
      ],
      "source": [
        "# Build Model\n",
        "embedding_vector_length = 32\n",
        "model = Sequential()\n",
        "model.add(Embedding(vocab_size, embedding_vector_length, input_length =max_review_length))\n",
        "model.add(LSTM(100))\n",
        "model.add(Dense(1, activation='sigmoid'))\n",
        "model.compile(loss='binary_crossentropy', optimizer='adam', metrics=['accuracy'])\n",
        "\n",
        "# Train Model\n",
        "history = model.fit(x_train, y_train, validation_data=(x_test, y_test), batch_size=128, epochs=5)\n",
        "result = model.evaluate(x_test, y_test, verbose=0)\n",
        "#Results\n",
        "print(\"Test Score:\", result[0])\n",
        "print(\"Test Accuracy:\", result[1])\n",
        "print(\"Accuracy: %.2f%%\" % (result[1]*100))"
      ]
    },
    {
      "cell_type": "code",
      "execution_count": null,
      "metadata": {
        "id": "uBGbv-NKp6-u",
        "outputId": "b737c924-08b5-4e7a-fe99-25b8d51b2b11"
      },
      "outputs": [
        {
          "name": "stdout",
          "output_type": "stream",
          "text": [
            "dict_keys(['val_loss', 'val_accuracy', 'loss', 'accuracy'])\n"
          ]
        },
        {
          "data": {
            "image/png": "[encoded data removed]",
            "text/plain": [
              "<Figure size 432x288 with 1 Axes>"
            ]
          },
          "metadata": {
            "needs_background": "light"
          },
          "output_type": "display_data"
        },
        {
          "data": {
            "image/png": "[encoded data removed]",
            "text/plain": [
              "<Figure size 432x288 with 1 Axes>"
            ]
          },
          "metadata": {
            "needs_background": "light"
          },
          "output_type": "display_data"
        }
      ],
      "source": [
        "print(history.history.keys())\n",
        "plt.plot(history.history['accuracy'])\n",
        "plt.plot(history.history['val_accuracy'])\n",
        "plt.title('Model accuracy')\n",
        "plt.ylabel('Accuracy')\n",
        "plt.xlabel('Epoch')\n",
        "plt.legend(['Train', 'Test'], loc='upper left')\n",
        "plt.show()\n",
        "\n",
        "plt.plot(history.history['loss'])\n",
        "plt.plot(history.history['val_loss'])\n",
        "plt.title('Model loss')\n",
        "plt.ylabel('Loss')\n",
        "plt.xlabel('Epoch')\n",
        "plt.legend(['Train', 'Test'], loc='upper left')\n",
        "plt.show()"
      ]
    }
  ],
  "metadata": {
    "kernelspec": {
      "display_name": "Python 3",
      "language": "python",
      "name": "python3"
    },
    "language_info": {
      "codemirror_mode": {
        "name": "ipython",
        "version": 3
      },
      "file_extension": ".py",
      "mimetype": "text/x-python",
      "name": "python",
      "nbconvert_exporter": "python",
      "pygments_lexer": "ipython3",
      "version": "3.7.6"
    },
    "colab": {
      "name": "sentiment_analysis_amazon_Lstm.ipynb",
      "provenance": []
    }
  },
  "nbformat": 4,
  "nbformat_minor": 0
}